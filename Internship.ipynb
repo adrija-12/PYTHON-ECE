{
  "nbformat": 4,
  "nbformat_minor": 0,
  "metadata": {
    "colab": {
      "provenance": [],
      "authorship_tag": "ABX9TyOvBKrE9ibKdFALSzQfeXLH",
      "include_colab_link": true
    },
    "kernelspec": {
      "name": "python3",
      "display_name": "Python 3"
    },
    "language_info": {
      "name": "python"
    }
  },
  "cells": [
    {
      "cell_type": "markdown",
      "metadata": {
        "id": "view-in-github",
        "colab_type": "text"
      },
      "source": [
        "<a href=\"https://colab.research.google.com/github/adrija-12/PYTHON-ECE/blob/main/Internship.ipynb\" target=\"_parent\"><img src=\"https://colab.research.google.com/assets/colab-badge.svg\" alt=\"Open In Colab\"/></a>"
      ]
    },
    {
      "cell_type": "code",
      "execution_count": 3,
      "metadata": {
        "colab": {
          "base_uri": "https://localhost:8080/"
        },
        "id": "8X1Y8WGqeJeE",
        "outputId": "0001d783-753c-4fb5-9bc4-db46f93f0902"
      },
      "outputs": [
        {
          "output_type": "stream",
          "name": "stdout",
          "text": [
            "Hello world\n"
          ]
        }
      ],
      "source": [
        "def greet():\n",
        "    print(\"Hello world\")\n",
        "greet()"
      ]
    },
    {
      "cell_type": "code",
      "source": [
        "def add(num1,num2):\n",
        "  num1=int(input(\"Enter the first number-> \"))\n",
        "  num2=int(input(\"Enter the second number-> \"))\n",
        "  sum=num1+num2\n",
        "  return sum\n",
        "\n",
        "result= add(num1,num2)\n",
        "print(result)\n",
        ""
      ],
      "metadata": {
        "colab": {
          "base_uri": "https://localhost:8080/"
        },
        "id": "FObRsGbDe1FJ",
        "outputId": "8ddb401e-4a76-4ecd-da0e-b8b37b94b1df"
      },
      "execution_count": 13,
      "outputs": [
        {
          "output_type": "stream",
          "name": "stdout",
          "text": [
            "Enter the first number-> 10\n",
            "Enter the second number-> 20\n",
            "30\n"
          ]
        }
      ]
    },
    {
      "cell_type": "code",
      "source": [
        "import math\n",
        "result=math.sqrt(4)\n",
        "print(result)"
      ],
      "metadata": {
        "colab": {
          "base_uri": "https://localhost:8080/"
        },
        "id": "l0aUjc9qgkec",
        "outputId": "4af0586a-3478-4ead-a519-2c5172aed8c0"
      },
      "execution_count": 14,
      "outputs": [
        {
          "output_type": "stream",
          "name": "stdout",
          "text": [
            "2.0\n"
          ]
        }
      ]
    },
    {
      "cell_type": "code",
      "source": [
        "#Write a program to create a calculator using functions\n",
        "\n",
        "import math\n",
        "\n",
        "def calc(a,b):\n",
        "  print(\"Enter the inputs:-\")\n",
        "  print(\"\\n\")\n",
        "  op=input(\"Enter the operation: \")\n",
        "  a,b=input(\"Enter the operands: \")\n",
        "  sum= math.add\n",
        "  diff=math.subtract\n",
        "  product=math.multiply\n",
        "  quot=math.divide\n",
        "  return sum,diff,product,quot\n",
        "  print(\"Enter 1 for addition,2 for subtraction,3 for multiplication,4 for division\")\n",
        "  while(1):\n",
        "\n",
        "    if(1):\n",
        "     print(\"sum=\" + sum)\n",
        "    elif(2):\n",
        "     print(\"Difference= \" + diff)\n",
        "    elif(3):\n",
        "     print(\"Product= \" + product)\n",
        "    elif(4):\n",
        "     print(\"Quotient= \"+ quot)\n",
        "\n",
        "calc(int a, int b)\n",
        "print(sum)\n",
        "print(\"Do you want to continue?\")\n",
        "if('yes'):\n",
        "  1\n",
        "elif():\n",
        "  0\n",
        "\n",
        "\n",
        "\n",
        "\n",
        "\n",
        ""
      ],
      "metadata": {
        "colab": {
          "base_uri": "https://localhost:8080/",
          "height": 131
        },
        "id": "MojRiFDPhRoa",
        "outputId": "1d98e310-a30a-41bd-8ff7-2a4ba04c2cb0"
      },
      "execution_count": 12,
      "outputs": [
        {
          "output_type": "error",
          "ename": "SyntaxError",
          "evalue": "ignored",
          "traceback": [
            "\u001b[0;36m  File \u001b[0;32m\"<ipython-input-12-02b40118fc8b>\"\u001b[0;36m, line \u001b[0;32m27\u001b[0m\n\u001b[0;31m    calc (int a, int b)\u001b[0m\n\u001b[0m          ^\u001b[0m\n\u001b[0;31mSyntaxError\u001b[0m\u001b[0;31m:\u001b[0m invalid syntax. Perhaps you forgot a comma?\n"
          ]
        }
      ]
    },
    {
      "cell_type": "code",
      "source": [
        "list=[10,12,23]\n",
        "\n",
        "list[0]=12\n",
        "print(list)"
      ],
      "metadata": {
        "colab": {
          "base_uri": "https://localhost:8080/"
        },
        "id": "Wj5abGsjkyD3",
        "outputId": "3b3471a9-d163-4173-b7aa-abf0342073db"
      },
      "execution_count": 3,
      "outputs": [
        {
          "output_type": "stream",
          "name": "stdout",
          "text": [
            "[12, 12, 23]\n"
          ]
        }
      ]
    },
    {
      "cell_type": "code",
      "source": [
        "list=[10,20,30,40,50,60]\n",
        "print(list[2:5])\n",
        "print(len(list))"
      ],
      "metadata": {
        "colab": {
          "base_uri": "https://localhost:8080/"
        },
        "id": "iKD_3wP7lRYq",
        "outputId": "ad579cf6-a395-443a-bb2e-58b187113dfe"
      },
      "execution_count": 8,
      "outputs": [
        {
          "output_type": "stream",
          "name": "stdout",
          "text": [
            "[30, 40, 50]\n",
            "6\n"
          ]
        }
      ]
    },
    {
      "cell_type": "code",
      "source": [],
      "metadata": {
        "id": "fZwH2-_clwKl"
      },
      "execution_count": null,
      "outputs": []
    }
  ]
}