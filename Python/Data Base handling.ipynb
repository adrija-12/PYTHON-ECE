{
 "cells": [
  {
   "cell_type": "code",
   "execution_count": 2,
   "metadata": {},
   "outputs": [
    {
     "ename": "ProgrammingError",
     "evalue": "Could not process parameters: str(Adrija,kolkata), it must be of type list, tuple or dict",
     "output_type": "error",
     "traceback": [
      "\u001b[1;31m---------------------------------------------------------------------------\u001b[0m",
      "\u001b[1;31mProgrammingError\u001b[0m                          Traceback (most recent call last)",
      "Cell \u001b[1;32mIn[2], line 13\u001b[0m\n\u001b[0;32m     11\u001b[0m sql\u001b[39m=\u001b[39m\u001b[39m\"\u001b[39m\u001b[39mINSERT INTO customers(name,address) VALUES(\u001b[39m\u001b[39m%s\u001b[39;00m\u001b[39m,\u001b[39m\u001b[39m%s\u001b[39;00m\u001b[39m)\u001b[39m\u001b[39m\"\u001b[39m\n\u001b[0;32m     12\u001b[0m val\u001b[39m=\u001b[39m(\u001b[39m\"\u001b[39m\u001b[39mAdrija,kolkata\u001b[39m\u001b[39m\"\u001b[39m)\n\u001b[1;32m---> 13\u001b[0m mysql_query\u001b[39m.\u001b[39;49mexecute(sql,val)\n\u001b[0;32m     14\u001b[0m sql_2\u001b[39m=\u001b[39m\u001b[39m\"\u001b[39m\u001b[39mINSERT INTO customers_students(name,address,email,gender) VALUES(\u001b[39m\u001b[39m%s\u001b[39;00m\u001b[39m,\u001b[39m\u001b[39m%s\u001b[39;00m\u001b[39m,\u001b[39m\u001b[39m%s\u001b[39;00m\u001b[39m,\u001b[39m\u001b[39m%s\u001b[39;00m\u001b[39m)\u001b[39m\u001b[39m\"\u001b[39m\n\u001b[0;32m     15\u001b[0m a\u001b[39m=\u001b[39m\u001b[39mstr\u001b[39m(\u001b[39minput\u001b[39m(\u001b[39m\"\u001b[39m\u001b[39mEnter your name: \u001b[39m\u001b[39m\"\u001b[39m))\n",
      "File \u001b[1;32mc:\\Users\\adrij\\AppData\\Local\\Programs\\Python\\Python311\\Lib\\site-packages\\mysql\\connector\\cursor_cext.py:317\u001b[0m, in \u001b[0;36mCMySQLCursor.execute\u001b[1;34m(self, operation, params, multi)\u001b[0m\n\u001b[0;32m    314\u001b[0m     \u001b[39mraise\u001b[39;00m ProgrammingError(\u001b[39mstr\u001b[39m(err)) \u001b[39mfrom\u001b[39;00m \u001b[39merr\u001b[39;00m\n\u001b[0;32m    316\u001b[0m \u001b[39mif\u001b[39;00m params:\n\u001b[1;32m--> 317\u001b[0m     prepared \u001b[39m=\u001b[39m \u001b[39mself\u001b[39;49m\u001b[39m.\u001b[39;49m_cnx\u001b[39m.\u001b[39;49mprepare_for_mysql(params)\n\u001b[0;32m    318\u001b[0m     \u001b[39mif\u001b[39;00m \u001b[39misinstance\u001b[39m(prepared, \u001b[39mdict\u001b[39m):\n\u001b[0;32m    319\u001b[0m         \u001b[39mfor\u001b[39;00m key, value \u001b[39min\u001b[39;00m prepared\u001b[39m.\u001b[39mitems():\n",
      "File \u001b[1;32mc:\\Users\\adrij\\AppData\\Local\\Programs\\Python\\Python311\\Lib\\site-packages\\mysql\\connector\\connection_cext.py:794\u001b[0m, in \u001b[0;36mCMySQLConnection.prepare_for_mysql\u001b[1;34m(self, params)\u001b[0m\n\u001b[0;32m    792\u001b[0m             result[key] \u001b[39m=\u001b[39m \u001b[39mself\u001b[39m\u001b[39m.\u001b[39m_cmysql\u001b[39m.\u001b[39mconvert_to_mysql(value)[\u001b[39m0\u001b[39m]\n\u001b[0;32m    793\u001b[0m \u001b[39melse\u001b[39;00m:\n\u001b[1;32m--> 794\u001b[0m     \u001b[39mraise\u001b[39;00m ProgrammingError(\n\u001b[0;32m    795\u001b[0m         \u001b[39mf\u001b[39m\u001b[39m\"\u001b[39m\u001b[39mCould not process parameters: \u001b[39m\u001b[39m{\u001b[39;00m\u001b[39mtype\u001b[39m(params)\u001b[39m.\u001b[39m\u001b[39m__name__\u001b[39m\u001b[39m}\u001b[39;00m\u001b[39m(\u001b[39m\u001b[39m{\u001b[39;00mparams\u001b[39m}\u001b[39;00m\u001b[39m),\u001b[39m\u001b[39m\"\u001b[39m\n\u001b[0;32m    796\u001b[0m         \u001b[39m\"\u001b[39m\u001b[39m it must be of type list, tuple or dict\u001b[39m\u001b[39m\"\u001b[39m\n\u001b[0;32m    797\u001b[0m     )\n\u001b[0;32m    799\u001b[0m \u001b[39mreturn\u001b[39;00m result\n",
      "\u001b[1;31mProgrammingError\u001b[0m: Could not process parameters: str(Adrija,kolkata), it must be of type list, tuple or dict"
     ]
    }
   ],
   "source": [
    "import mysql.connector\n",
    "db = mysql.connector.connect(\n",
    "    host=\"localhost\",\n",
    "    user=\"root\",\n",
    "    password=\"\",\n",
    "    database=\"msit\"\n",
    ")\n",
    "mysql_query = db.cursor()\n",
    "# mysql_query.execute(\"CREATE TABLE customers_3(id INT AUTO_INCREMENT PRIMARY KEY,name VARCHAR(255),address VARCHAR(255))\")\n",
    "# print(\"Table Created Successfully\")\n",
    "sql=\"INSERT INTO customers(name,address) VALUES(%s,%s)\"\n",
    "val=(\"Adrija,kolkata\")\n",
    "mysql_query.execute(sql,val)\n",
    "sql_2=\"INSERT INTO customers_students(name,address,email,gender) VALUES(%s,%s,%s,%s)\"\n",
    "a=str(input(\"Enter your name: \"))\n",
    "b=str(input('Enter your name -> '))\n",
    "c=str(input(\"Enter your email: \"))\n",
    "d=str(input(\"Enter your gender: \"))\n",
    "val_2=(a,b,c,d)\n",
    "mysql_query.execute(sql_2,val_2)\n",
    "mysql_query.commit\n",
    "print(mysql_query.rowcount,\"Record inserted\")"
   ]
  }
 ],
 "metadata": {
  "kernelspec": {
   "display_name": "Python 3",
   "language": "python",
   "name": "python3"
  },
  "language_info": {
   "codemirror_mode": {
    "name": "ipython",
    "version": 3
   },
   "file_extension": ".py",
   "mimetype": "text/x-python",
   "name": "python",
   "nbconvert_exporter": "python",
   "pygments_lexer": "ipython3",
   "version": "3.11.1"
  },
  "orig_nbformat": 4
 },
 "nbformat": 4,
 "nbformat_minor": 2
}
